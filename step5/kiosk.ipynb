{
 "cells": [
  {
   "cell_type": "code",
   "execution_count": null,
   "metadata": {},
   "outputs": [],
   "source": [
    "# Automated id_dict Boarding Kiosk"
   ]
  },
  {
   "cell_type": "code",
   "execution_count": null,
   "metadata": {},
   "outputs": [],
   "source": [
    "from azure.ai.formrecognizer import FormRecognizerClient\n",
    "from azure.ai.formrecognizer import FormTrainingClient\n",
    "from azure.core.credentials import AzureKeyCredential\n",
    "from azure.cognitiveservices.vision.face import FaceClient\n",
    "from msrest.authentication import CognitiveServicesCredentials\n",
    "from azure.cognitiveservices.vision.face.models import TrainingStatusType\n",
    "\n",
    "import pandas as pd\n",
    "from datetime import datetime\n",
    "import pickle\n",
    "import io, glob, os, sys, time, uuid\n",
    "\n",
    "from dotenv import load_dotenv"
   ]
  },
  {
   "cell_type": "markdown",
   "metadata": {},
   "source": [
    "## Environment"
   ]
  },
  {
   "cell_type": "code",
   "execution_count": null,
   "metadata": {},
   "outputs": [],
   "source": [
    "load_dotenv(override=True)\n",
    "\n",
    "subscription_key = os.getenv(\"SUBSCRIPTION_KEY\")\n",
    "location = os.getenv(\"LOCATION\")\n",
    "account_id = os.getenv(\"ACCOUNT_ID\")\n",
    "\n",
    "face_endpoint = os.getenv(\"FACE_ENDPOINT\")\n",
    "face_key = os.getenv(\"FACE_KEY\")\n",
    "\n",
    "form_endpoint = os.getenv(\"AZURE_FORM_RECOGNIZER_ENDPOINT\")\n",
    "form_key = os.getenv(\"AZURE_FORM_RECOGNIZER_KEY\")\n",
    "form_storage = os.getenv(\"AZURE_STORAGE_BLOB_URL\")"
   ]
  },
  {
   "cell_type": "code",
   "execution_count": null,
   "metadata": {},
   "outputs": [],
   "source": [
    "passengers = ['avkash', 'james-jackson', 'james-webb', 'libby-herold', 'radha-s-kumar', 'sameer-kumar']\n",
    "manifest = pd.read_csv(\"../material_preparation_step/FlightManifest.csv\")\n"
   ]
  },
  {
   "cell_type": "markdown",
   "metadata": {},
   "source": [
    "## Initialization"
   ]
  },
  {
   "cell_type": "code",
   "execution_count": null,
   "metadata": {},
   "outputs": [],
   "source": [
    "form_training_client = FormTrainingClient(form_endpoint, AzureKeyCredential(form_key))\n",
    "form_recognizer_client = FormRecognizerClient(form_endpoint, AzureKeyCredential(form_key))\n",
    "\n",
    "face_client = FaceClient(face_endpoint, face_key)\n",
    "\n",
    "training_process = form_training_client.begin_training(trainingDataUrl, use_training_labels=True)\n",
    "custom_model = training_process.result()"
   ]
  },
  {
   "cell_type": "markdown",
   "metadata": {},
   "source": [
    "## Person Group"
   ]
  },
  {
   "cell_type": "code",
   "execution_count": null,
   "metadata": {},
   "outputs": [],
   "source": [
    "def build_person_group(client, person_group_id, face_images):\n",
    "    print(\"Create and build a person group...\")\n",
    "    # Create empty Person Group. Person Group ID must be lower case, alphanumeric, and/or with '-', '_'.\n",
    "    print(\"Person group ID:\", person_group_id)\n",
    "    client.person_group.create(person_group_id=person_group_id, name=person_group_id)\n",
    "\n",
    "    person = client.person_group_person.create(\n",
    "        person_group_id=person_group_id, name=person_group_id\n",
    "    )\n",
    "\n",
    "    for image_p in face_images:\n",
    "        with open(image_p, \"rb\") as w:\n",
    "            client.person_group_person.add_face_from_stream(\n",
    "                person_group_id, person.person_id, w\n",
    "            )\n",
    "\n",
    "    client.person_group.train(person_group_id)\n",
    "\n",
    "    while True:\n",
    "        training_status = client.person_group.get_training_status(person_group_id)\n",
    "        print(\"Training status: {}.\".format(training_status.status))\n",
    "        if training_status.status is TrainingStatusType.succeeded:\n",
    "            break\n",
    "        elif training_status.status is TrainingStatusType.failed:\n",
    "            client.person_group.delete(person_group_id=person_group_id)\n",
    "            sys.exit(\"Training the person group has failed.\")\n",
    "        time.sleep(5)\n",
    "\n",
    "person_group_id = str(uuid.uuid4())\n",
    "face_client = FaceClient(face_endpoint, CognitiveServicesCredentials(face_key))\n",
    "face_images = [file for file in glob.glob(\"../step3/thumbnails/*.jpg\")]\n",
    "\n",
    "build_person_group(face_client, person_group_id, face_images)"
   ]
  },
  {
   "cell_type": "markdown",
   "metadata": {},
   "source": [
    "## Validate"
   ]
  },
  {
   "cell_type": "code",
   "execution_count": null,
   "metadata": {},
   "outputs": [],
   "source": [
    "def extract_id_data(id_path):\n",
    "    with open(id_path, \"rb\") as f:\n",
    "        poller = form_recognizer_client.begin_recognize_identity_documents(identity_document=f)\n",
    "\n",
    "    id_documents = poller.result()[0].to_dict()\n",
    "\n",
    "    id_dict = {}\n",
    "\n",
    "    id_dict['first_name'] = id_documents['fields']['FirstName']['value'].strip().lower()\n",
    "    id_dict['last_name'] = id_documents['fields']['LastName']['value'].strip().lower()\n",
    "    id_dict['dob'] = id_documents['fields']['DateOfBirth']['value']\n",
    "\n",
    "    return id_dict\n"
   ]
  },
  {
   "cell_type": "code",
   "execution_count": null,
   "metadata": {},
   "outputs": [],
   "source": [
    "def extract_boarding_pass(model_id, file_name):\n",
    "    with open(file_name, \"rb\") as f:\n",
    "        poller = form_recognizer_client.begin_recognize_custom_forms(\n",
    "            model_id=model_id,\n",
    "            form=f,\n",
    "            include_field_elements=True,\n",
    "        )\n",
    "    boarding_pass = poller.result()[0].to_dict()\n",
    "    \n",
    "    boarding_data_dict = {}\n",
    "    boarding_data_dict['name'] = boarding_pass['fields']['name']['value']\n",
    "    boarding_data_dict['flight_num'] = boarding_pass['fields']['flight_number']['value']\n",
    "    boarding_data_dict['seat'] = boarding_pass['fields']['seat']['value']\n",
    "    boarding_data_dict['from'] = boarding_pass['fields']['from']['value']\n",
    "    boarding_data_dict['to'] = boarding_pass['fields']['to']['value']\n",
    "    boarding_data_dict['date'] = datetime.strptime(boarding_pass['fields']['date']['value'][:-3].strip(), \"%B %d, %Y\")\n",
    "    boarding_data_dict['time'] = datetime.strptime(boarding_pass['fields']['boarding_time']['value'][:-3].strip(), \"%I:%M %p\")\n",
    "\n",
    "    return boarding_data_dict"
   ]
  },
  {
   "cell_type": "code",
   "execution_count": null,
   "metadata": {},
   "outputs": [],
   "source": [
    "id_data = []\n",
    "\n",
    "for file in os.listdir(\"../material_preparation_step/digital-ids\"):\n",
    "    if file.endswith(\".png\"):\n",
    "        current_data = extract_id_data(\"../material_preparation_step/digital-ids/\" + file)\n",
    "        id_data.append(current_data)\n",
    "\n",
    "#with open('id_data', 'wb') as fp:\n",
    "#     pickle.dump(id_data, fp)\n"
   ]
  },
  {
   "cell_type": "code",
   "execution_count": null,
   "metadata": {},
   "outputs": [],
   "source": [
    "model_id = \"6f95bb00-e6ce-41f2-af7c-fe579deb0c3e\"\n",
    "\n",
    "boarding_data = []\n",
    "\n",
    "for file in os.listdir(\"../material_preparation_step/boarding-pass\"):\n",
    "    if file.endswith(\".pdf\"):\n",
    "        current_data = extract_boarding_pass(model_id, \"../material_preparation_step/boarding-pass/\" + file)\n",
    "        boarding_data.append(current_data)\n",
    "\n",
    "# with open('boarding_data', 'wb') as fp:\n",
    "#     pickle.dump(boarding_data, fp)"
   ]
  },
  {
   "cell_type": "code",
   "execution_count": null,
   "metadata": {},
   "outputs": [],
   "source": [
    "def validate_passenger(manifest_df, id_path, boarding_path, luggage):\n",
    "    # Set initial validation results\n",
    "    name_validation = False\n",
    "    dob_validation = False\n",
    "    boarding_pass_validation = False\n",
    "    person_id_validation = False\n",
    "    luggage_validation = False\n",
    "\n",
    "    # Get data\n",
    "    id_data = extract_id_data(id_path)\n",
    "    boarding_data = extract_boarding_pass(model_id, boarding_path)\n",
    "    manifest_index = manifest_df.index[(manifest_df['First Name'].str.lower() == id_data['first_name']) & (manifest_df['Last Name'].str.lower() == id_data['last_name'])]\n",
    "    print(manifest_index)\n",
    "\n",
    "    # 3-Way Person Name Validation\n",
    "    if (id_data['first_name'] in boarding_data['name'] and id_data['last_name'] in boarding_data['name']):\n",
    "        name_validation = True\n",
    "    \n",
    "    # DoB Validation\n",
    "    if len(manifest_index > 0):\n",
    "        'success'\n",
    "        date_of_birth_id = id_data['dob']\n",
    "        date_of_birth_manifest = datetime.strptime(manifest_df.iloc[manifest_index]['Date of Birth'][manifest_index[0]], \"%d/%m/%Y\")\n",
    "        if (date_of_birth_id.year == date_of_birth_manifest.year and \\\n",
    "            date_of_birth_id.month == date_of_birth_manifest.month and \\\n",
    "                date_of_birth_id.day == date_of_birth_manifest.day):\n",
    "\n",
    "                manifest_df.loc[manifest_index, 'DoBValidation'] = True\n",
    "                dob_validation = True\n",
    "\n",
    "    # Boarding Pass Validation: flight number, seat number, class, origin, destination, flight date, and flight time\n",
    "    if len(manifest_index > 0):\n",
    "        manifest_flight_num = manifest_df.iloc[manifest_index]['Flight No.'][manifest_index[0]]\n",
    "        manifest_seat_num = manifest_df.iloc[manifest_index]['Seat'][manifest_index[0]].strip().lower()\n",
    "        manifest_origin = manifest_df.iloc[manifest_index]['From'][manifest_index[0]].strip().lower()\n",
    "        manifest_destination = manifest_df.iloc[manifest_index]['To'][manifest_index[0]].strip().lower()\n",
    "        manifest_flight_date = datetime.strptime(manifest_df.iloc[manifest_index]['Date'][manifest_index[0]], \"%d-%b-%y\")\n",
    "        manifest_flight_time = datetime.strptime(manifest_df.iloc[manifest_index]['Boarding Time'][manifest_index[0]][:-3].strip(), \"%I:%M %p\")\n",
    "\n",
    "    if boarding_data['flight_num'] == manifest_flight_num and \\\n",
    "        boarding_data['seat'] == manifest_seat_num and \\\n",
    "            boarding_data['from'] == manifest_origin and \\\n",
    "                boarding_data['to'] == manifest_destination and \\\n",
    "                    boarding_data['date'] == manifest_flight_date and \\\n",
    "                        boarding_data['time'] == manifest_flight_time:\n",
    "\n",
    "        boarding_pass_validation = True\n",
    "\n",
    "    with open(id, \"rb\") as id_file:\n",
    "        face_client.detect_with_stream(id_file)\n",
    "        face_ids = [face.face_id for face in face_images]\n",
    "\n",
    "    identity_result = face_client.identity(face_ids, person_group_id)\n",
    "    for person in identity_result:\n",
    "        if len(person.candidates) > 0 and person.candidates[0].confidence >= 0.65:\n",
    "            person_id_validation = False\n",
    "            \n",
    "\n",
    "    manifest.loc[manifest_index, 'NameValidation'] = name_validation\n",
    "    manifest.loc[manifest_index, 'DoBValidation'] = dob_validation\n",
    "    manifest.loc[manifest_index, 'PersonValidation'] = person_id_validation\n",
    "    manifest.loc[manifest_index, 'BoardingPassValidation'] = boarding_pass_validation\n",
    "    manifest.loc[manifest_index, 'LuggageValidation'] = luggage_validation\n",
    "\n",
    "\n",
    "    # Save manifest\n",
    "    manifest.to_csv('manifest.csv')\n",
    "\n",
    "    # all validation passed\n",
    "    if (name_validation and dob_validation and boarding_pass_validation and person_id_validation and luggage_validation):\n",
    "        print(f\"\"\"\n",
    "        Dear {boarding_data['name']},\n",
    "        You are welcome to flight # {boarding_data['flight_num']} leaving at {boarding_data['time']} from\n",
    "        {boarding_data['flight_num']} to {boarding_data['to']}.\n",
    "        Your seat number is {boarding_data['seat']}, and it is confirmed.\n",
    "        We did not find a prohibited item (lighter) in your carry-on baggage, thanks for following the procedure.\n",
    "        Your identity is verified so please board the plane.\n",
    "        \"\"\")\n",
    "    \n",
    "    elif (name_validation and dob_validation and boarding_pass_validation and person_id_validation and not luggage_validation):\n",
    "        print(f\"\"\"\n",
    "        Dear {boarding_data['name']},\n",
    "        You are welcome to flight # {boarding_data['flight_num']} leaving at {boarding_data['time']} from\n",
    "        {boarding_data['flight_num']} to {boarding_data['to']}.\n",
    "        Your seat number is {boarding_data['seat']}, and it is confirmed.\n",
    "        We have found a prohibited item in your carry-on baggage, and it is flagged for removal. \n",
    "\n",
    "        Your identity is verified. However, your baggage verification failed, so please see a customer service representative.\n",
    "        \"\"\")\n",
    "    \n",
    "    else:\n",
    "        print(\"\"\"\n",
    "        Dear Sir/Madam,\n",
    "        Some of the information on your ID card does not match the flight manifest data, so you cannot board the plane.\n",
    "        Please see a customer service representative.\n",
    "        \"\"\")\n",
    "    \n",
    "    return manifest"
   ]
  },
  {
   "cell_type": "code",
   "execution_count": null,
   "metadata": {},
   "outputs": [],
   "source": [
    "for p in passengers:\n",
    "    validate_passenger(manifest, \"../material_preparation_step/digital-ids/ca-dl-\" + p + \".png\", \"../material_preparation_step/boarding-pass/boarding-\" + p + \".pdf\", True)"
   ]
  }
 ],
 "metadata": {
  "kernelspec": {
   "display_name": "Python 3",
   "language": "python",
   "name": "python3"
  },
  "language_info": {
   "codemirror_mode": {
    "name": "ipython",
    "version": 3
   },
   "file_extension": ".py",
   "mimetype": "text/x-python",
   "name": "python",
   "nbconvert_exporter": "python",
   "pygments_lexer": "ipython3",
   "version": "3.10.6"
  }
 },
 "nbformat": 4,
 "nbformat_minor": 2
}
